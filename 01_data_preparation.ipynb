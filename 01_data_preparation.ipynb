{
 "cells": [
  {
   "cell_type": "code",
   "execution_count": 2,
   "metadata": {},
   "outputs": [
    {
     "name": "stderr",
     "output_type": "stream",
     "text": [
      "d:\\MLops\\MLops\\mlenv\\lib\\site-packages\\tqdm\\auto.py:21: TqdmWarning: IProgress not found. Please update jupyter and ipywidgets. See https://ipywidgets.readthedocs.io/en/stable/user_install.html\n",
      "  from .autonotebook import tqdm as notebook_tqdm\n"
     ]
    }
   ],
   "source": [
    "import pandas as pd\n",
    "\n",
    "splits = {'train': 'train.jsonl', 'validation': 'valid.jsonl', 'test': 'test.jsonl'}\n",
    "df1 = pd.read_json(\"hf://datasets/deccan-ai/insuranceQA-v2/\" + splits[\"train\"], lines=True)\n"
   ]
  },
  {
   "cell_type": "code",
   "execution_count": 3,
   "metadata": {},
   "outputs": [
    {
     "data": {
      "text/html": [
       "<div>\n",
       "<style scoped>\n",
       "    .dataframe tbody tr th:only-of-type {\n",
       "        vertical-align: middle;\n",
       "    }\n",
       "\n",
       "    .dataframe tbody tr th {\n",
       "        vertical-align: top;\n",
       "    }\n",
       "\n",
       "    .dataframe thead th {\n",
       "        text-align: right;\n",
       "    }\n",
       "</style>\n",
       "<table border=\"1\" class=\"dataframe\">\n",
       "  <thead>\n",
       "    <tr style=\"text-align: right;\">\n",
       "      <th></th>\n",
       "      <th>input</th>\n",
       "      <th>output</th>\n",
       "    </tr>\n",
       "  </thead>\n",
       "  <tbody>\n",
       "    <tr>\n",
       "      <th>0</th>\n",
       "      <td>What Does Medicare IME Stand For?</td>\n",
       "      <td>According to the Centers for Medicare and Medi...</td>\n",
       "    </tr>\n",
       "    <tr>\n",
       "      <th>1</th>\n",
       "      <td>Is Long Term Care Insurance Tax Free?</td>\n",
       "      <td>As a rule , if you buy a tax qualified long te...</td>\n",
       "    </tr>\n",
       "    <tr>\n",
       "      <th>2</th>\n",
       "      <td>Can Husband Drop Wife From Health Insurance?</td>\n",
       "      <td>Can a spouse drop another spouse from health i...</td>\n",
       "    </tr>\n",
       "    <tr>\n",
       "      <th>3</th>\n",
       "      <td>Is Medicare Run By The Government?</td>\n",
       "      <td>Medicare Part A and Part B is provided by the ...</td>\n",
       "    </tr>\n",
       "    <tr>\n",
       "      <th>4</th>\n",
       "      <td>Is Medicare Run By The Government?</td>\n",
       "      <td>Definitely . It is ran by the Center for Medic...</td>\n",
       "    </tr>\n",
       "  </tbody>\n",
       "</table>\n",
       "</div>"
      ],
      "text/plain": [
       "                                           input  \\\n",
       "0             What Does Medicare IME Stand For?    \n",
       "1         Is Long Term Care Insurance Tax Free?    \n",
       "2  Can Husband Drop Wife From Health Insurance?    \n",
       "3            Is Medicare Run By The Government?    \n",
       "4            Is Medicare Run By The Government?    \n",
       "\n",
       "                                              output  \n",
       "0  According to the Centers for Medicare and Medi...  \n",
       "1  As a rule , if you buy a tax qualified long te...  \n",
       "2  Can a spouse drop another spouse from health i...  \n",
       "3  Medicare Part A and Part B is provided by the ...  \n",
       "4  Definitely . It is ran by the Center for Medic...  "
      ]
     },
     "execution_count": 3,
     "metadata": {},
     "output_type": "execute_result"
    }
   ],
   "source": [
    "df1.head()"
   ]
  },
  {
   "cell_type": "code",
   "execution_count": 7,
   "metadata": {},
   "outputs": [],
   "source": [
    "df1.to_csv('health_insurance_qna1.csv',index=False)"
   ]
  },
  {
   "cell_type": "code",
   "execution_count": 8,
   "metadata": {},
   "outputs": [
    {
     "data": {
      "text/plain": [
       "(21325, 2)"
      ]
     },
     "execution_count": 8,
     "metadata": {},
     "output_type": "execute_result"
    }
   ],
   "source": [
    "df1.shape"
   ]
  },
  {
   "cell_type": "code",
   "execution_count": 1,
   "metadata": {},
   "outputs": [
    {
     "name": "stderr",
     "output_type": "stream",
     "text": [
      "d:\\MLops\\MLops\\mlenv\\lib\\site-packages\\tqdm\\auto.py:21: TqdmWarning: IProgress not found. Please update jupyter and ipywidgets. See https://ipywidgets.readthedocs.io/en/stable/user_install.html\n",
      "  from .autonotebook import tqdm as notebook_tqdm\n"
     ]
    }
   ],
   "source": [
    "import pandas as pd\n",
    "\n",
    "df2 = pd.read_json(\"hf://datasets/4DR1455/finance_questions/finance_questions_dataset.json\")"
   ]
  },
  {
   "cell_type": "code",
   "execution_count": 2,
   "metadata": {},
   "outputs": [
    {
     "data": {
      "text/html": [
       "<div>\n",
       "<style scoped>\n",
       "    .dataframe tbody tr th:only-of-type {\n",
       "        vertical-align: middle;\n",
       "    }\n",
       "\n",
       "    .dataframe tbody tr th {\n",
       "        vertical-align: top;\n",
       "    }\n",
       "\n",
       "    .dataframe thead th {\n",
       "        text-align: right;\n",
       "    }\n",
       "</style>\n",
       "<table border=\"1\" class=\"dataframe\">\n",
       "  <thead>\n",
       "    <tr style=\"text-align: right;\">\n",
       "      <th></th>\n",
       "      <th>instruction</th>\n",
       "      <th>input</th>\n",
       "      <th>output</th>\n",
       "    </tr>\n",
       "  </thead>\n",
       "  <tbody>\n",
       "    <tr>\n",
       "      <th>0</th>\n",
       "      <td>How do dividend policies impact a company's fi...</td>\n",
       "      <td></td>\n",
       "      <td>Dividend policies of a company can significant...</td>\n",
       "    </tr>\n",
       "    <tr>\n",
       "      <th>1</th>\n",
       "      <td>What are the potential challenges in forecasti...</td>\n",
       "      <td></td>\n",
       "      <td>Forecasting interest expenses for financial st...</td>\n",
       "    </tr>\n",
       "    <tr>\n",
       "      <th>2</th>\n",
       "      <td>Why is the cost of equity included in the WACC...</td>\n",
       "      <td></td>\n",
       "      <td>The Weighted Average Cost of Capital (WACC) is...</td>\n",
       "    </tr>\n",
       "    <tr>\n",
       "      <th>3</th>\n",
       "      <td>Explain the concept of operational risk and it...</td>\n",
       "      <td></td>\n",
       "      <td>Operational risk is the risk of loss resulting...</td>\n",
       "    </tr>\n",
       "    <tr>\n",
       "      <th>4</th>\n",
       "      <td>What is the cost of equity for a privately hel...</td>\n",
       "      <td></td>\n",
       "      <td>The cost of equity for a privately held compan...</td>\n",
       "    </tr>\n",
       "  </tbody>\n",
       "</table>\n",
       "</div>"
      ],
      "text/plain": [
       "                                         instruction input  \\\n",
       "0  How do dividend policies impact a company's fi...         \n",
       "1  What are the potential challenges in forecasti...         \n",
       "2  Why is the cost of equity included in the WACC...         \n",
       "3  Explain the concept of operational risk and it...         \n",
       "4  What is the cost of equity for a privately hel...         \n",
       "\n",
       "                                              output  \n",
       "0  Dividend policies of a company can significant...  \n",
       "1  Forecasting interest expenses for financial st...  \n",
       "2  The Weighted Average Cost of Capital (WACC) is...  \n",
       "3  Operational risk is the risk of loss resulting...  \n",
       "4  The cost of equity for a privately held compan...  "
      ]
     },
     "execution_count": 2,
     "metadata": {},
     "output_type": "execute_result"
    }
   ],
   "source": [
    "df2.head()"
   ]
  },
  {
   "cell_type": "code",
   "execution_count": 4,
   "metadata": {},
   "outputs": [
    {
     "data": {
      "text/plain": [
       "(53937, 3)"
      ]
     },
     "execution_count": 4,
     "metadata": {},
     "output_type": "execute_result"
    }
   ],
   "source": [
    "df2.shape"
   ]
  },
  {
   "cell_type": "code",
   "execution_count": 5,
   "metadata": {},
   "outputs": [],
   "source": [
    "df2= df2.iloc[:25000]"
   ]
  },
  {
   "cell_type": "code",
   "execution_count": 6,
   "metadata": {},
   "outputs": [
    {
     "data": {
      "text/html": [
       "<div>\n",
       "<style scoped>\n",
       "    .dataframe tbody tr th:only-of-type {\n",
       "        vertical-align: middle;\n",
       "    }\n",
       "\n",
       "    .dataframe tbody tr th {\n",
       "        vertical-align: top;\n",
       "    }\n",
       "\n",
       "    .dataframe thead th {\n",
       "        text-align: right;\n",
       "    }\n",
       "</style>\n",
       "<table border=\"1\" class=\"dataframe\">\n",
       "  <thead>\n",
       "    <tr style=\"text-align: right;\">\n",
       "      <th></th>\n",
       "      <th>instruction</th>\n",
       "      <th>input</th>\n",
       "      <th>output</th>\n",
       "    </tr>\n",
       "  </thead>\n",
       "  <tbody>\n",
       "    <tr>\n",
       "      <th>0</th>\n",
       "      <td>How do dividend policies impact a company's fi...</td>\n",
       "      <td></td>\n",
       "      <td>Dividend policies of a company can significant...</td>\n",
       "    </tr>\n",
       "    <tr>\n",
       "      <th>1</th>\n",
       "      <td>What are the potential challenges in forecasti...</td>\n",
       "      <td></td>\n",
       "      <td>Forecasting interest expenses for financial st...</td>\n",
       "    </tr>\n",
       "    <tr>\n",
       "      <th>2</th>\n",
       "      <td>Why is the cost of equity included in the WACC...</td>\n",
       "      <td></td>\n",
       "      <td>The Weighted Average Cost of Capital (WACC) is...</td>\n",
       "    </tr>\n",
       "    <tr>\n",
       "      <th>3</th>\n",
       "      <td>Explain the concept of operational risk and it...</td>\n",
       "      <td></td>\n",
       "      <td>Operational risk is the risk of loss resulting...</td>\n",
       "    </tr>\n",
       "    <tr>\n",
       "      <th>4</th>\n",
       "      <td>What is the cost of equity for a privately hel...</td>\n",
       "      <td></td>\n",
       "      <td>The cost of equity for a privately held compan...</td>\n",
       "    </tr>\n",
       "  </tbody>\n",
       "</table>\n",
       "</div>"
      ],
      "text/plain": [
       "                                         instruction input  \\\n",
       "0  How do dividend policies impact a company's fi...         \n",
       "1  What are the potential challenges in forecasti...         \n",
       "2  Why is the cost of equity included in the WACC...         \n",
       "3  Explain the concept of operational risk and it...         \n",
       "4  What is the cost of equity for a privately hel...         \n",
       "\n",
       "                                              output  \n",
       "0  Dividend policies of a company can significant...  \n",
       "1  Forecasting interest expenses for financial st...  \n",
       "2  The Weighted Average Cost of Capital (WACC) is...  \n",
       "3  Operational risk is the risk of loss resulting...  \n",
       "4  The cost of equity for a privately held compan...  "
      ]
     },
     "execution_count": 6,
     "metadata": {},
     "output_type": "execute_result"
    }
   ],
   "source": [
    "df2.head()"
   ]
  },
  {
   "cell_type": "code",
   "execution_count": 8,
   "metadata": {},
   "outputs": [],
   "source": [
    "df2.drop('input',axis=1,inplace=True)"
   ]
  },
  {
   "cell_type": "code",
   "execution_count": 9,
   "metadata": {},
   "outputs": [
    {
     "data": {
      "text/html": [
       "<div>\n",
       "<style scoped>\n",
       "    .dataframe tbody tr th:only-of-type {\n",
       "        vertical-align: middle;\n",
       "    }\n",
       "\n",
       "    .dataframe tbody tr th {\n",
       "        vertical-align: top;\n",
       "    }\n",
       "\n",
       "    .dataframe thead th {\n",
       "        text-align: right;\n",
       "    }\n",
       "</style>\n",
       "<table border=\"1\" class=\"dataframe\">\n",
       "  <thead>\n",
       "    <tr style=\"text-align: right;\">\n",
       "      <th></th>\n",
       "      <th>instruction</th>\n",
       "      <th>output</th>\n",
       "    </tr>\n",
       "  </thead>\n",
       "  <tbody>\n",
       "    <tr>\n",
       "      <th>0</th>\n",
       "      <td>How do dividend policies impact a company's fi...</td>\n",
       "      <td>Dividend policies of a company can significant...</td>\n",
       "    </tr>\n",
       "    <tr>\n",
       "      <th>1</th>\n",
       "      <td>What are the potential challenges in forecasti...</td>\n",
       "      <td>Forecasting interest expenses for financial st...</td>\n",
       "    </tr>\n",
       "    <tr>\n",
       "      <th>2</th>\n",
       "      <td>Why is the cost of equity included in the WACC...</td>\n",
       "      <td>The Weighted Average Cost of Capital (WACC) is...</td>\n",
       "    </tr>\n",
       "    <tr>\n",
       "      <th>3</th>\n",
       "      <td>Explain the concept of operational risk and it...</td>\n",
       "      <td>Operational risk is the risk of loss resulting...</td>\n",
       "    </tr>\n",
       "    <tr>\n",
       "      <th>4</th>\n",
       "      <td>What is the cost of equity for a privately hel...</td>\n",
       "      <td>The cost of equity for a privately held compan...</td>\n",
       "    </tr>\n",
       "  </tbody>\n",
       "</table>\n",
       "</div>"
      ],
      "text/plain": [
       "                                         instruction  \\\n",
       "0  How do dividend policies impact a company's fi...   \n",
       "1  What are the potential challenges in forecasti...   \n",
       "2  Why is the cost of equity included in the WACC...   \n",
       "3  Explain the concept of operational risk and it...   \n",
       "4  What is the cost of equity for a privately hel...   \n",
       "\n",
       "                                              output  \n",
       "0  Dividend policies of a company can significant...  \n",
       "1  Forecasting interest expenses for financial st...  \n",
       "2  The Weighted Average Cost of Capital (WACC) is...  \n",
       "3  Operational risk is the risk of loss resulting...  \n",
       "4  The cost of equity for a privately held compan...  "
      ]
     },
     "execution_count": 9,
     "metadata": {},
     "output_type": "execute_result"
    }
   ],
   "source": [
    "df2.head()"
   ]
  },
  {
   "cell_type": "code",
   "execution_count": 10,
   "metadata": {},
   "outputs": [],
   "source": [
    "df2.to_csv('finance_data.csv',index=False)"
   ]
  },
  {
   "cell_type": "code",
   "execution_count": 19,
   "metadata": {},
   "outputs": [],
   "source": [
    "import pandas as pd\n",
    "\n",
    "df3 = pd.read_csv(\"hf://datasets/bitext/Bitext-retail-ecommerce-llm-chatbot-training-dataset/bitext-retail-ecommerce-llm-chatbot-training-dataset.csv\")"
   ]
  },
  {
   "cell_type": "code",
   "execution_count": 20,
   "metadata": {},
   "outputs": [
    {
     "data": {
      "text/html": [
       "<div>\n",
       "<style scoped>\n",
       "    .dataframe tbody tr th:only-of-type {\n",
       "        vertical-align: middle;\n",
       "    }\n",
       "\n",
       "    .dataframe tbody tr th {\n",
       "        vertical-align: top;\n",
       "    }\n",
       "\n",
       "    .dataframe thead th {\n",
       "        text-align: right;\n",
       "    }\n",
       "</style>\n",
       "<table border=\"1\" class=\"dataframe\">\n",
       "  <thead>\n",
       "    <tr style=\"text-align: right;\">\n",
       "      <th></th>\n",
       "      <th>instruction</th>\n",
       "      <th>intent</th>\n",
       "      <th>category</th>\n",
       "      <th>tags</th>\n",
       "      <th>response</th>\n",
       "    </tr>\n",
       "  </thead>\n",
       "  <tbody>\n",
       "    <tr>\n",
       "      <th>0</th>\n",
       "      <td>I got to add an item to the cart</td>\n",
       "      <td>add_product</td>\n",
       "      <td>CART</td>\n",
       "      <td>BL</td>\n",
       "      <td>I'll get right on it! I'm here to assist you i...</td>\n",
       "    </tr>\n",
       "    <tr>\n",
       "      <th>1</th>\n",
       "      <td>wanna add fucking products to the basket can h...</td>\n",
       "      <td>add_product</td>\n",
       "      <td>CART</td>\n",
       "      <td>BCIMQWZ</td>\n",
       "      <td>I sincerely apologize if you've encountered an...</td>\n",
       "    </tr>\n",
       "    <tr>\n",
       "      <th>2</th>\n",
       "      <td>i have to add products to the basket i ned help</td>\n",
       "      <td>add_product</td>\n",
       "      <td>CART</td>\n",
       "      <td>BCMQZ</td>\n",
       "      <td>You bet! I'm here to assist you in adding prod...</td>\n",
       "    </tr>\n",
       "    <tr>\n",
       "      <th>3</th>\n",
       "      <td>di like to add products to the cart could i ge...</td>\n",
       "      <td>add_product</td>\n",
       "      <td>CART</td>\n",
       "      <td>BCILMPQZ</td>\n",
       "      <td>Indeed! I'm here to assist you in adding produ...</td>\n",
       "    </tr>\n",
       "    <tr>\n",
       "      <th>4</th>\n",
       "      <td>I need to add an item to the cart , where do I...</td>\n",
       "      <td>add_product</td>\n",
       "      <td>CART</td>\n",
       "      <td>BCILZ</td>\n",
       "      <td>I'll take care of it! I'm here to help you wit...</td>\n",
       "    </tr>\n",
       "  </tbody>\n",
       "</table>\n",
       "</div>"
      ],
      "text/plain": [
       "                                         instruction       intent category  \\\n",
       "0                   I got to add an item to the cart  add_product     CART   \n",
       "1  wanna add fucking products to the basket can h...  add_product     CART   \n",
       "2    i have to add products to the basket i ned help  add_product     CART   \n",
       "3  di like to add products to the cart could i ge...  add_product     CART   \n",
       "4  I need to add an item to the cart , where do I...  add_product     CART   \n",
       "\n",
       "       tags                                           response  \n",
       "0        BL  I'll get right on it! I'm here to assist you i...  \n",
       "1   BCIMQWZ  I sincerely apologize if you've encountered an...  \n",
       "2     BCMQZ  You bet! I'm here to assist you in adding prod...  \n",
       "3  BCILMPQZ  Indeed! I'm here to assist you in adding produ...  \n",
       "4     BCILZ  I'll take care of it! I'm here to help you wit...  "
      ]
     },
     "execution_count": 20,
     "metadata": {},
     "output_type": "execute_result"
    }
   ],
   "source": [
    "df3.head()"
   ]
  },
  {
   "cell_type": "code",
   "execution_count": 23,
   "metadata": {},
   "outputs": [
    {
     "data": {
      "text/plain": [
       "category\n",
       "RETURNS        6925\n",
       "PRODUCT        6679\n",
       "DELIVERY       6595\n",
       "ACCOUNT        4950\n",
       "ORDER          3945\n",
       "PAYMENT        2981\n",
       "FEEDBACK       2980\n",
       "APP_WEBSITE    1993\n",
       "CONTACT        1986\n",
       "CART           1950\n",
       "STORE          1916\n",
       "SALES           995\n",
       "USER            989\n",
       "Name: count, dtype: int64"
      ]
     },
     "execution_count": 23,
     "metadata": {},
     "output_type": "execute_result"
    }
   ],
   "source": [
    "df3['category'].value_counts()"
   ]
  },
  {
   "cell_type": "code",
   "execution_count": 24,
   "metadata": {},
   "outputs": [
    {
     "name": "stdout",
     "output_type": "stream",
     "text": [
      "category\n",
      "RETURNS        3857\n",
      "PRODUCT        3720\n",
      "DELIVERY       3673\n",
      "ACCOUNT        2757\n",
      "ORDER          2197\n",
      "PAYMENT        1660\n",
      "FEEDBACK       1659\n",
      "APP_WEBSITE    1110\n",
      "CONTACT        1106\n",
      "CART           1086\n",
      "STORE          1067\n",
      "SALES           554\n",
      "USER            550\n",
      "Name: count, dtype: int64\n",
      "24996\n"
     ]
    }
   ],
   "source": [
    "# Total rows desired\n",
    "total_rows = 25000\n",
    "\n",
    "# Calculate the proportion of each category\n",
    "category_counts = df3['category'].value_counts()\n",
    "proportions = category_counts / category_counts.sum()\n",
    "\n",
    "# Determine the number of rows to sample for each category\n",
    "sample_sizes = (proportions * total_rows).astype(int)\n",
    "\n",
    "# Sample rows for each category\n",
    "sampled_data = pd.concat([\n",
    "    df3[df3['category'] == category].sample(n=size, random_state=42)\n",
    "    for category, size in sample_sizes.items()\n",
    "])\n",
    "\n",
    "# Verify the new dataset size\n",
    "print(sampled_data['category'].value_counts())\n",
    "print(len(sampled_data))\n"
   ]
  },
  {
   "cell_type": "code",
   "execution_count": 27,
   "metadata": {},
   "outputs": [],
   "source": [
    "sampled_data.reset_index(drop=True,inplace=True)"
   ]
  },
  {
   "cell_type": "code",
   "execution_count": 29,
   "metadata": {},
   "outputs": [
    {
     "data": {
      "text/html": [
       "<div>\n",
       "<style scoped>\n",
       "    .dataframe tbody tr th:only-of-type {\n",
       "        vertical-align: middle;\n",
       "    }\n",
       "\n",
       "    .dataframe tbody tr th {\n",
       "        vertical-align: top;\n",
       "    }\n",
       "\n",
       "    .dataframe thead th {\n",
       "        text-align: right;\n",
       "    }\n",
       "</style>\n",
       "<table border=\"1\" class=\"dataframe\">\n",
       "  <thead>\n",
       "    <tr style=\"text-align: right;\">\n",
       "      <th></th>\n",
       "      <th>instruction</th>\n",
       "      <th>intent</th>\n",
       "      <th>category</th>\n",
       "      <th>tags</th>\n",
       "      <th>response</th>\n",
       "    </tr>\n",
       "  </thead>\n",
       "  <tbody>\n",
       "    <tr>\n",
       "      <th>0</th>\n",
       "      <td>I want help to see your fucking money back pol...</td>\n",
       "      <td>refund_policy</td>\n",
       "      <td>RETURNS</td>\n",
       "      <td>BLWZ</td>\n",
       "      <td>I genuinely apologize for any inconvenience ca...</td>\n",
       "    </tr>\n",
       "    <tr>\n",
       "      <th>1</th>\n",
       "      <td>could i return a fucking item if i bought it t...</td>\n",
       "      <td>return_policy</td>\n",
       "      <td>RETURNS</td>\n",
       "      <td>BILPQW</td>\n",
       "      <td>I sincerely apologize for any frustration or i...</td>\n",
       "    </tr>\n",
       "    <tr>\n",
       "      <th>2</th>\n",
       "      <td>I need to hceck your fucking return process, h...</td>\n",
       "      <td>return_policy</td>\n",
       "      <td>RETURNS</td>\n",
       "      <td>BCILWZ</td>\n",
       "      <td>I genuinely apologize for any frustration caus...</td>\n",
       "    </tr>\n",
       "    <tr>\n",
       "      <th>3</th>\n",
       "      <td>how could i get information about the status o...</td>\n",
       "      <td>refund_status</td>\n",
       "      <td>RETURNS</td>\n",
       "      <td>BILPQ</td>\n",
       "      <td>No worries! I'm here to assist you with tracki...</td>\n",
       "    </tr>\n",
       "    <tr>\n",
       "      <th>4</th>\n",
       "      <td>I'm trying to find information about the statu...</td>\n",
       "      <td>refund_status</td>\n",
       "      <td>RETURNS</td>\n",
       "      <td>BELQZ</td>\n",
       "      <td>We regret the inconvenience, and we're sorry f...</td>\n",
       "    </tr>\n",
       "  </tbody>\n",
       "</table>\n",
       "</div>"
      ],
      "text/plain": [
       "                                         instruction         intent category  \\\n",
       "0  I want help to see your fucking money back pol...  refund_policy  RETURNS   \n",
       "1  could i return a fucking item if i bought it t...  return_policy  RETURNS   \n",
       "2  I need to hceck your fucking return process, h...  return_policy  RETURNS   \n",
       "3  how could i get information about the status o...  refund_status  RETURNS   \n",
       "4  I'm trying to find information about the statu...  refund_status  RETURNS   \n",
       "\n",
       "     tags                                           response  \n",
       "0    BLWZ  I genuinely apologize for any inconvenience ca...  \n",
       "1  BILPQW  I sincerely apologize for any frustration or i...  \n",
       "2  BCILWZ  I genuinely apologize for any frustration caus...  \n",
       "3   BILPQ  No worries! I'm here to assist you with tracki...  \n",
       "4   BELQZ  We regret the inconvenience, and we're sorry f...  "
      ]
     },
     "execution_count": 29,
     "metadata": {},
     "output_type": "execute_result"
    }
   ],
   "source": [
    "sampled_data.head()"
   ]
  },
  {
   "cell_type": "code",
   "execution_count": 31,
   "metadata": {},
   "outputs": [],
   "source": [
    "sampled_data.drop(columns=['intent','category','tags'],inplace=True)"
   ]
  },
  {
   "cell_type": "code",
   "execution_count": 32,
   "metadata": {},
   "outputs": [
    {
     "data": {
      "text/html": [
       "<div>\n",
       "<style scoped>\n",
       "    .dataframe tbody tr th:only-of-type {\n",
       "        vertical-align: middle;\n",
       "    }\n",
       "\n",
       "    .dataframe tbody tr th {\n",
       "        vertical-align: top;\n",
       "    }\n",
       "\n",
       "    .dataframe thead th {\n",
       "        text-align: right;\n",
       "    }\n",
       "</style>\n",
       "<table border=\"1\" class=\"dataframe\">\n",
       "  <thead>\n",
       "    <tr style=\"text-align: right;\">\n",
       "      <th></th>\n",
       "      <th>instruction</th>\n",
       "      <th>response</th>\n",
       "    </tr>\n",
       "  </thead>\n",
       "  <tbody>\n",
       "    <tr>\n",
       "      <th>0</th>\n",
       "      <td>I want help to see your fucking money back pol...</td>\n",
       "      <td>I genuinely apologize for any inconvenience ca...</td>\n",
       "    </tr>\n",
       "    <tr>\n",
       "      <th>1</th>\n",
       "      <td>could i return a fucking item if i bought it t...</td>\n",
       "      <td>I sincerely apologize for any frustration or i...</td>\n",
       "    </tr>\n",
       "    <tr>\n",
       "      <th>2</th>\n",
       "      <td>I need to hceck your fucking return process, h...</td>\n",
       "      <td>I genuinely apologize for any frustration caus...</td>\n",
       "    </tr>\n",
       "    <tr>\n",
       "      <th>3</th>\n",
       "      <td>how could i get information about the status o...</td>\n",
       "      <td>No worries! I'm here to assist you with tracki...</td>\n",
       "    </tr>\n",
       "    <tr>\n",
       "      <th>4</th>\n",
       "      <td>I'm trying to find information about the statu...</td>\n",
       "      <td>We regret the inconvenience, and we're sorry f...</td>\n",
       "    </tr>\n",
       "  </tbody>\n",
       "</table>\n",
       "</div>"
      ],
      "text/plain": [
       "                                         instruction  \\\n",
       "0  I want help to see your fucking money back pol...   \n",
       "1  could i return a fucking item if i bought it t...   \n",
       "2  I need to hceck your fucking return process, h...   \n",
       "3  how could i get information about the status o...   \n",
       "4  I'm trying to find information about the statu...   \n",
       "\n",
       "                                            response  \n",
       "0  I genuinely apologize for any inconvenience ca...  \n",
       "1  I sincerely apologize for any frustration or i...  \n",
       "2  I genuinely apologize for any frustration caus...  \n",
       "3  No worries! I'm here to assist you with tracki...  \n",
       "4  We regret the inconvenience, and we're sorry f...  "
      ]
     },
     "execution_count": 32,
     "metadata": {},
     "output_type": "execute_result"
    }
   ],
   "source": [
    "sampled_data.head()"
   ]
  },
  {
   "cell_type": "code",
   "execution_count": 33,
   "metadata": {},
   "outputs": [],
   "source": [
    "sampled_data.to_csv('retail.csv',index=True)"
   ]
  },
  {
   "cell_type": "code",
   "execution_count": 16,
   "metadata": {},
   "outputs": [
    {
     "name": "stderr",
     "output_type": "stream",
     "text": [
      "d:\\MLops\\MLops\\mlenv\\lib\\site-packages\\tqdm\\auto.py:21: TqdmWarning: IProgress not found. Please update jupyter and ipywidgets. See https://ipywidgets.readthedocs.io/en/stable/user_install.html\n",
      "  from .autonotebook import tqdm as notebook_tqdm\n"
     ]
    }
   ],
   "source": [
    "import pandas as pd\n",
    "\n",
    "gk = pd.read_json(\"hf://datasets/MuskumPillerum/General-Knowledge/output.json\")"
   ]
  },
  {
   "cell_type": "code",
   "execution_count": 17,
   "metadata": {},
   "outputs": [
    {
     "data": {
      "text/html": [
       "<div>\n",
       "<style scoped>\n",
       "    .dataframe tbody tr th:only-of-type {\n",
       "        vertical-align: middle;\n",
       "    }\n",
       "\n",
       "    .dataframe tbody tr th {\n",
       "        vertical-align: top;\n",
       "    }\n",
       "\n",
       "    .dataframe thead th {\n",
       "        text-align: right;\n",
       "    }\n",
       "</style>\n",
       "<table border=\"1\" class=\"dataframe\">\n",
       "  <thead>\n",
       "    <tr style=\"text-align: right;\">\n",
       "      <th></th>\n",
       "      <th>Question</th>\n",
       "      <th>Answer</th>\n",
       "    </tr>\n",
       "  </thead>\n",
       "  <tbody>\n",
       "    <tr>\n",
       "      <th>0</th>\n",
       "      <td>What is Artificial Intelligence?</td>\n",
       "      <td>Artificial Intelligence refers to the developm...</td>\n",
       "    </tr>\n",
       "    <tr>\n",
       "      <th>1</th>\n",
       "      <td>What are the two main categories of Artificial...</td>\n",
       "      <td>The two main categories of Artificial Intellig...</td>\n",
       "    </tr>\n",
       "    <tr>\n",
       "      <th>2</th>\n",
       "      <td>What is Machine Learning?</td>\n",
       "      <td>Machine Learning is a subset of Artificial Int...</td>\n",
       "    </tr>\n",
       "    <tr>\n",
       "      <th>3</th>\n",
       "      <td>What is Deep Learning?</td>\n",
       "      <td>Deep Learning is a subset of Machine Learning ...</td>\n",
       "    </tr>\n",
       "    <tr>\n",
       "      <th>4</th>\n",
       "      <td>What is Natural Language Processing?</td>\n",
       "      <td>Natural Language Processing is a subset of Art...</td>\n",
       "    </tr>\n",
       "  </tbody>\n",
       "</table>\n",
       "</div>"
      ],
      "text/plain": [
       "                                            Question  \\\n",
       "0                   What is Artificial Intelligence?   \n",
       "1  What are the two main categories of Artificial...   \n",
       "2                          What is Machine Learning?   \n",
       "3                             What is Deep Learning?   \n",
       "4               What is Natural Language Processing?   \n",
       "\n",
       "                                              Answer  \n",
       "0  Artificial Intelligence refers to the developm...  \n",
       "1  The two main categories of Artificial Intellig...  \n",
       "2  Machine Learning is a subset of Artificial Int...  \n",
       "3  Deep Learning is a subset of Machine Learning ...  \n",
       "4  Natural Language Processing is a subset of Art...  "
      ]
     },
     "execution_count": 17,
     "metadata": {},
     "output_type": "execute_result"
    }
   ],
   "source": [
    "gk.head()"
   ]
  },
  {
   "cell_type": "code",
   "execution_count": 18,
   "metadata": {},
   "outputs": [],
   "source": [
    "gk=gk.iloc[:3000]"
   ]
  },
  {
   "cell_type": "code",
   "execution_count": 19,
   "metadata": {},
   "outputs": [],
   "source": [
    "import pandas as pd\n",
    "\n",
    "splits = {'train': 'train.csv', 'validation': 'val.csv', 'test': 'test.csv'}\n",
    "sc = pd.read_csv(\"hf://datasets/armanc/ScienceQA/\" + splits[\"train\"])"
   ]
  },
  {
   "cell_type": "code",
   "execution_count": 20,
   "metadata": {},
   "outputs": [
    {
     "data": {
      "text/html": [
       "<div>\n",
       "<style scoped>\n",
       "    .dataframe tbody tr th:only-of-type {\n",
       "        vertical-align: middle;\n",
       "    }\n",
       "\n",
       "    .dataframe tbody tr th {\n",
       "        vertical-align: top;\n",
       "    }\n",
       "\n",
       "    .dataframe thead th {\n",
       "        text-align: right;\n",
       "    }\n",
       "</style>\n",
       "<table border=\"1\" class=\"dataframe\">\n",
       "  <thead>\n",
       "    <tr style=\"text-align: right;\">\n",
       "      <th></th>\n",
       "      <th>Unnamed: 0</th>\n",
       "      <th>Context</th>\n",
       "      <th>Answer</th>\n",
       "      <th>Question</th>\n",
       "    </tr>\n",
       "  </thead>\n",
       "  <tbody>\n",
       "    <tr>\n",
       "      <th>0</th>\n",
       "      <td>0</td>\n",
       "      <td>In recent times, social media has become a pop...</td>\n",
       "      <td>many election campaigns</td>\n",
       "      <td>social media has become a popular medium for w...</td>\n",
       "    </tr>\n",
       "    <tr>\n",
       "      <th>1</th>\n",
       "      <td>1</td>\n",
       "      <td>A novel sparsity optimization method is propos...</td>\n",
       "      <td>data fitting inequality constraints</td>\n",
       "      <td>what type of method is proposed to select clas...</td>\n",
       "    </tr>\n",
       "    <tr>\n",
       "      <th>2</th>\n",
       "      <td>2</td>\n",
       "      <td>A fundamental problem for artificial intellige...</td>\n",
       "      <td>the similarity</td>\n",
       "      <td>what part of motif occurrences , nonlinear tem...</td>\n",
       "    </tr>\n",
       "    <tr>\n",
       "      <th>3</th>\n",
       "      <td>3</td>\n",
       "      <td>While multitask learning has been extensively ...</td>\n",
       "      <td>the original input space</td>\n",
       "      <td>what does each atom of the dictionary include ?</td>\n",
       "    </tr>\n",
       "    <tr>\n",
       "      <th>4</th>\n",
       "      <td>4</td>\n",
       "      <td>We initiate the study of control actions in fa...</td>\n",
       "      <td>one some or all agents</td>\n",
       "      <td>what has a problem of control ?</td>\n",
       "    </tr>\n",
       "  </tbody>\n",
       "</table>\n",
       "</div>"
      ],
      "text/plain": [
       "   Unnamed: 0                                            Context  \\\n",
       "0           0  In recent times, social media has become a pop...   \n",
       "1           1  A novel sparsity optimization method is propos...   \n",
       "2           2  A fundamental problem for artificial intellige...   \n",
       "3           3  While multitask learning has been extensively ...   \n",
       "4           4  We initiate the study of control actions in fa...   \n",
       "\n",
       "                                Answer  \\\n",
       "0              many election campaigns   \n",
       "1  data fitting inequality constraints   \n",
       "2                       the similarity   \n",
       "3             the original input space   \n",
       "4               one some or all agents   \n",
       "\n",
       "                                            Question  \n",
       "0  social media has become a popular medium for w...  \n",
       "1  what type of method is proposed to select clas...  \n",
       "2  what part of motif occurrences , nonlinear tem...  \n",
       "3    what does each atom of the dictionary include ?  \n",
       "4                    what has a problem of control ?  "
      ]
     },
     "execution_count": 20,
     "metadata": {},
     "output_type": "execute_result"
    }
   ],
   "source": [
    "sc.head()"
   ]
  },
  {
   "cell_type": "code",
   "execution_count": 21,
   "metadata": {},
   "outputs": [
    {
     "data": {
      "text/plain": [
       "(75429, 4)"
      ]
     },
     "execution_count": 21,
     "metadata": {},
     "output_type": "execute_result"
    }
   ],
   "source": [
    "sc.shape"
   ]
  },
  {
   "cell_type": "code",
   "execution_count": 22,
   "metadata": {},
   "outputs": [],
   "source": [
    "sc=sc.iloc[:3000]"
   ]
  },
  {
   "cell_type": "code",
   "execution_count": 23,
   "metadata": {},
   "outputs": [],
   "source": [
    "sc.drop(columns=['Unnamed: 0','Context'],axis=1,inplace=True)"
   ]
  },
  {
   "cell_type": "code",
   "execution_count": 24,
   "metadata": {},
   "outputs": [
    {
     "data": {
      "text/html": [
       "<div>\n",
       "<style scoped>\n",
       "    .dataframe tbody tr th:only-of-type {\n",
       "        vertical-align: middle;\n",
       "    }\n",
       "\n",
       "    .dataframe tbody tr th {\n",
       "        vertical-align: top;\n",
       "    }\n",
       "\n",
       "    .dataframe thead th {\n",
       "        text-align: right;\n",
       "    }\n",
       "</style>\n",
       "<table border=\"1\" class=\"dataframe\">\n",
       "  <thead>\n",
       "    <tr style=\"text-align: right;\">\n",
       "      <th></th>\n",
       "      <th>Answer</th>\n",
       "      <th>Question</th>\n",
       "    </tr>\n",
       "  </thead>\n",
       "  <tbody>\n",
       "    <tr>\n",
       "      <th>0</th>\n",
       "      <td>many election campaigns</td>\n",
       "      <td>social media has become a popular medium for w...</td>\n",
       "    </tr>\n",
       "    <tr>\n",
       "      <th>1</th>\n",
       "      <td>data fitting inequality constraints</td>\n",
       "      <td>what type of method is proposed to select clas...</td>\n",
       "    </tr>\n",
       "    <tr>\n",
       "      <th>2</th>\n",
       "      <td>the similarity</td>\n",
       "      <td>what part of motif occurrences , nonlinear tem...</td>\n",
       "    </tr>\n",
       "    <tr>\n",
       "      <th>3</th>\n",
       "      <td>the original input space</td>\n",
       "      <td>what does each atom of the dictionary include ?</td>\n",
       "    </tr>\n",
       "    <tr>\n",
       "      <th>4</th>\n",
       "      <td>one some or all agents</td>\n",
       "      <td>what has a problem of control ?</td>\n",
       "    </tr>\n",
       "  </tbody>\n",
       "</table>\n",
       "</div>"
      ],
      "text/plain": [
       "                                Answer  \\\n",
       "0              many election campaigns   \n",
       "1  data fitting inequality constraints   \n",
       "2                       the similarity   \n",
       "3             the original input space   \n",
       "4               one some or all agents   \n",
       "\n",
       "                                            Question  \n",
       "0  social media has become a popular medium for w...  \n",
       "1  what type of method is proposed to select clas...  \n",
       "2  what part of motif occurrences , nonlinear tem...  \n",
       "3    what does each atom of the dictionary include ?  \n",
       "4                    what has a problem of control ?  "
      ]
     },
     "execution_count": 24,
     "metadata": {},
     "output_type": "execute_result"
    }
   ],
   "source": [
    "sc.head()"
   ]
  },
  {
   "cell_type": "code",
   "execution_count": 25,
   "metadata": {},
   "outputs": [],
   "source": [
    "import pandas as pd\n",
    "nq=pd.read_csv('Natural-Questions-Filtered.csv')"
   ]
  },
  {
   "cell_type": "code",
   "execution_count": 26,
   "metadata": {},
   "outputs": [
    {
     "data": {
      "text/html": [
       "<div>\n",
       "<style scoped>\n",
       "    .dataframe tbody tr th:only-of-type {\n",
       "        vertical-align: middle;\n",
       "    }\n",
       "\n",
       "    .dataframe tbody tr th {\n",
       "        vertical-align: top;\n",
       "    }\n",
       "\n",
       "    .dataframe thead th {\n",
       "        text-align: right;\n",
       "    }\n",
       "</style>\n",
       "<table border=\"1\" class=\"dataframe\">\n",
       "  <thead>\n",
       "    <tr style=\"text-align: right;\">\n",
       "      <th></th>\n",
       "      <th>question</th>\n",
       "      <th>long_answers</th>\n",
       "      <th>short_answers</th>\n",
       "    </tr>\n",
       "  </thead>\n",
       "  <tbody>\n",
       "    <tr>\n",
       "      <th>0</th>\n",
       "      <td>which is the most common use of opt-in e-mail ...</td>\n",
       "      <td>A common example of permission marketing is a ...</td>\n",
       "      <td>A newsletter sent to an advertising firm's cus...</td>\n",
       "    </tr>\n",
       "    <tr>\n",
       "      <th>1</th>\n",
       "      <td>how i.met your mother who is the mother</td>\n",
       "      <td>Tracy McConnell, better known as `` The Mother...</td>\n",
       "      <td>Tracy McConnell</td>\n",
       "    </tr>\n",
       "    <tr>\n",
       "      <th>2</th>\n",
       "      <td>who had the most wins in the nfl</td>\n",
       "      <td>Active quarterback Tom Brady holds the records...</td>\n",
       "      <td>Tom Brady</td>\n",
       "    </tr>\n",
       "    <tr>\n",
       "      <th>3</th>\n",
       "      <td>who played mantis guardians of the galaxy 2</td>\n",
       "      <td>Pom Klementieff (born May 1986) is a French ac...</td>\n",
       "      <td>Pom Klementieff</td>\n",
       "    </tr>\n",
       "    <tr>\n",
       "      <th>4</th>\n",
       "      <td>the nashville sound brought a polished and cos...</td>\n",
       "      <td>In the early 1960s, the Nashville sound began ...</td>\n",
       "      <td>The use of lush string arrangements with a rea...</td>\n",
       "    </tr>\n",
       "  </tbody>\n",
       "</table>\n",
       "</div>"
      ],
      "text/plain": [
       "                                            question  \\\n",
       "0  which is the most common use of opt-in e-mail ...   \n",
       "1            how i.met your mother who is the mother   \n",
       "2                   who had the most wins in the nfl   \n",
       "3        who played mantis guardians of the galaxy 2   \n",
       "4  the nashville sound brought a polished and cos...   \n",
       "\n",
       "                                        long_answers  \\\n",
       "0  A common example of permission marketing is a ...   \n",
       "1  Tracy McConnell, better known as `` The Mother...   \n",
       "2  Active quarterback Tom Brady holds the records...   \n",
       "3  Pom Klementieff (born May 1986) is a French ac...   \n",
       "4  In the early 1960s, the Nashville sound began ...   \n",
       "\n",
       "                                       short_answers  \n",
       "0  A newsletter sent to an advertising firm's cus...  \n",
       "1                                    Tracy McConnell  \n",
       "2                                          Tom Brady  \n",
       "3                                    Pom Klementieff  \n",
       "4  The use of lush string arrangements with a rea...  "
      ]
     },
     "execution_count": 26,
     "metadata": {},
     "output_type": "execute_result"
    }
   ],
   "source": [
    "nq.head()"
   ]
  },
  {
   "cell_type": "code",
   "execution_count": 27,
   "metadata": {},
   "outputs": [
    {
     "data": {
      "text/plain": [
       "(86212, 3)"
      ]
     },
     "execution_count": 27,
     "metadata": {},
     "output_type": "execute_result"
    }
   ],
   "source": [
    "nq.shape"
   ]
  },
  {
   "cell_type": "code",
   "execution_count": 28,
   "metadata": {},
   "outputs": [],
   "source": [
    "nq=nq.iloc[:15000]"
   ]
  },
  {
   "cell_type": "code",
   "execution_count": 29,
   "metadata": {},
   "outputs": [
    {
     "data": {
      "text/html": [
       "<div>\n",
       "<style scoped>\n",
       "    .dataframe tbody tr th:only-of-type {\n",
       "        vertical-align: middle;\n",
       "    }\n",
       "\n",
       "    .dataframe tbody tr th {\n",
       "        vertical-align: top;\n",
       "    }\n",
       "\n",
       "    .dataframe thead th {\n",
       "        text-align: right;\n",
       "    }\n",
       "</style>\n",
       "<table border=\"1\" class=\"dataframe\">\n",
       "  <thead>\n",
       "    <tr style=\"text-align: right;\">\n",
       "      <th></th>\n",
       "      <th>question</th>\n",
       "      <th>long_answers</th>\n",
       "      <th>short_answers</th>\n",
       "    </tr>\n",
       "  </thead>\n",
       "  <tbody>\n",
       "    <tr>\n",
       "      <th>0</th>\n",
       "      <td>which is the most common use of opt-in e-mail ...</td>\n",
       "      <td>A common example of permission marketing is a ...</td>\n",
       "      <td>A newsletter sent to an advertising firm's cus...</td>\n",
       "    </tr>\n",
       "    <tr>\n",
       "      <th>1</th>\n",
       "      <td>how i.met your mother who is the mother</td>\n",
       "      <td>Tracy McConnell, better known as `` The Mother...</td>\n",
       "      <td>Tracy McConnell</td>\n",
       "    </tr>\n",
       "    <tr>\n",
       "      <th>2</th>\n",
       "      <td>who had the most wins in the nfl</td>\n",
       "      <td>Active quarterback Tom Brady holds the records...</td>\n",
       "      <td>Tom Brady</td>\n",
       "    </tr>\n",
       "    <tr>\n",
       "      <th>3</th>\n",
       "      <td>who played mantis guardians of the galaxy 2</td>\n",
       "      <td>Pom Klementieff (born May 1986) is a French ac...</td>\n",
       "      <td>Pom Klementieff</td>\n",
       "    </tr>\n",
       "    <tr>\n",
       "      <th>4</th>\n",
       "      <td>the nashville sound brought a polished and cos...</td>\n",
       "      <td>In the early 1960s, the Nashville sound began ...</td>\n",
       "      <td>The use of lush string arrangements with a rea...</td>\n",
       "    </tr>\n",
       "  </tbody>\n",
       "</table>\n",
       "</div>"
      ],
      "text/plain": [
       "                                            question  \\\n",
       "0  which is the most common use of opt-in e-mail ...   \n",
       "1            how i.met your mother who is the mother   \n",
       "2                   who had the most wins in the nfl   \n",
       "3        who played mantis guardians of the galaxy 2   \n",
       "4  the nashville sound brought a polished and cos...   \n",
       "\n",
       "                                        long_answers  \\\n",
       "0  A common example of permission marketing is a ...   \n",
       "1  Tracy McConnell, better known as `` The Mother...   \n",
       "2  Active quarterback Tom Brady holds the records...   \n",
       "3  Pom Klementieff (born May 1986) is a French ac...   \n",
       "4  In the early 1960s, the Nashville sound began ...   \n",
       "\n",
       "                                       short_answers  \n",
       "0  A newsletter sent to an advertising firm's cus...  \n",
       "1                                    Tracy McConnell  \n",
       "2                                          Tom Brady  \n",
       "3                                    Pom Klementieff  \n",
       "4  The use of lush string arrangements with a rea...  "
      ]
     },
     "execution_count": 29,
     "metadata": {},
     "output_type": "execute_result"
    }
   ],
   "source": [
    "nq.head()"
   ]
  },
  {
   "cell_type": "code",
   "execution_count": 30,
   "metadata": {},
   "outputs": [],
   "source": [
    "nq=nq.drop(columns=['long_answers','short_answers'])"
   ]
  },
  {
   "cell_type": "code",
   "execution_count": 31,
   "metadata": {},
   "outputs": [
    {
     "data": {
      "text/html": [
       "<div>\n",
       "<style scoped>\n",
       "    .dataframe tbody tr th:only-of-type {\n",
       "        vertical-align: middle;\n",
       "    }\n",
       "\n",
       "    .dataframe tbody tr th {\n",
       "        vertical-align: top;\n",
       "    }\n",
       "\n",
       "    .dataframe thead th {\n",
       "        text-align: right;\n",
       "    }\n",
       "</style>\n",
       "<table border=\"1\" class=\"dataframe\">\n",
       "  <thead>\n",
       "    <tr style=\"text-align: right;\">\n",
       "      <th></th>\n",
       "      <th>question</th>\n",
       "    </tr>\n",
       "  </thead>\n",
       "  <tbody>\n",
       "    <tr>\n",
       "      <th>0</th>\n",
       "      <td>which is the most common use of opt-in e-mail ...</td>\n",
       "    </tr>\n",
       "    <tr>\n",
       "      <th>1</th>\n",
       "      <td>how i.met your mother who is the mother</td>\n",
       "    </tr>\n",
       "    <tr>\n",
       "      <th>2</th>\n",
       "      <td>who had the most wins in the nfl</td>\n",
       "    </tr>\n",
       "    <tr>\n",
       "      <th>3</th>\n",
       "      <td>who played mantis guardians of the galaxy 2</td>\n",
       "    </tr>\n",
       "    <tr>\n",
       "      <th>4</th>\n",
       "      <td>the nashville sound brought a polished and cos...</td>\n",
       "    </tr>\n",
       "  </tbody>\n",
       "</table>\n",
       "</div>"
      ],
      "text/plain": [
       "                                            question\n",
       "0  which is the most common use of opt-in e-mail ...\n",
       "1            how i.met your mother who is the mother\n",
       "2                   who had the most wins in the nfl\n",
       "3        who played mantis guardians of the galaxy 2\n",
       "4  the nashville sound brought a polished and cos..."
      ]
     },
     "execution_count": 31,
     "metadata": {},
     "output_type": "execute_result"
    }
   ],
   "source": [
    "nq.head()"
   ]
  },
  {
   "cell_type": "code",
   "execution_count": 32,
   "metadata": {},
   "outputs": [],
   "source": [
    "new_questions = [\n",
    "    \"Tell me a joke.\",\n",
    "    \"What is the meaning of life?\",\n",
    "    \"Can you sing a song for me?\",\n",
    "    \"What’s your favorite color?\",\n",
    "    \"How do you make pancakes?\",\n",
    "    \"Who is the richest person in the world?\",\n",
    "    \"Do you believe in aliens?\",\n",
    "    \"What is the capital of Mars?\",\n",
    "    \"How old are you?\",\n",
    "    \"What’s your favorite movie?\",\n",
    "    \"Can you do a magic trick?\",\n",
    "    \"What’s 2 + 2?\",\n",
    "    \"How tall is the Eiffel Tower?\",\n",
    "    \"Can you teach me to dance?\",\n",
    "    \"What’s the best pizza topping?\",\n",
    "    \"Who won the last World Cup?\",\n",
    "    \"Do you like cats or dogs?\",\n",
    "    \"What is the speed of light?\",\n",
    "    \"What’s the weather like today?\",\n",
    "    \"How many stars are in the sky?\",\n",
    "    \"Can you recommend a good book?\",\n",
    "    \"Who invented the Internet?\",\n",
    "    \"What’s your favorite animal?\",\n",
    "    \"Do you know any riddles?\",\n",
    "    \"Why is the sky blue?\",\n",
    "    \"Can you solve a Rubik’s cube?\",\n",
    "    \"What’s the funniest meme you know?\",\n",
    "    \"Who painted the Mona Lisa?\",\n",
    "    \"How do I bake a chocolate cake?\",\n",
    "    \"What’s your favorite holiday destination?\",\n",
    "    \"Can you speak in pirate language?\",\n",
    "    \"Is it raining in New York?\",\n",
    "    \"What’s the temperature in Paris right now?\",\n",
    "    \"Will it snow tomorrow in Tokyo?\",\n",
    "    \"How windy is it in Chicago today?\",\n",
    "    \"What’s the humidity level in Dubai?\",\n",
    "    \"Is there a storm coming to Florida?\",\n",
    "    \"What time does the sun rise in Sydney?\",\n",
    "    \"What’s the UV index in Los Angeles?\",\n",
    "    \"How hot will it be in Mumbai tomorrow?\",\n",
    "    \"Is there a chance of hail in Berlin?\",\n",
    "    \"Where is the nearest gas station?\",\n",
    "    \"What is the capital of Australia?\",\n",
    "    \"How far is the Eiffel Tower from here?\",\n",
    "    \"Can you tell me the population of Tokyo?\",\n",
    "    \"What’s the latitude of the North Pole?\",\n",
    "    \"Where is Mount Everest located?\",\n",
    "    \"How do I get to Central Park?\",\n",
    "    \"Which country is closest to the equator?\",\n",
    "    \"What continent is Brazil on?\",\n",
    "    \"Can you show me a map of Italy?\",\n",
    "    \"How far is the Moon from Earth?\",\n",
    "    \"What’s the distance between New York and London?\",\n",
    "    \"How many miles is it to the nearest hospital?\",\n",
    "    \"What’s the longest road in the world?\",\n",
    "    \"How far can I drive on a full tank of gas?\",\n",
    "    \"How long does it take to fly from Los Angeles to Tokyo?\",\n",
    "    \"What’s the walking distance to the grocery store?\",\n",
    "    \"How many light-years away is Alpha Centauri?\",\n",
    "    \"What’s the speed of sound in miles per hour?\",\n",
    "    \"How far is the Great Wall of China from Beijing?\",\n",
    "    \"What is the time zone in Hawaii?\",\n",
    "    \"How many countries are in Africa?\",\n",
    "    \"Can you translate “hello” into Spanish?\",\n",
    "    \"What’s the highest waterfall in the world?\",\n",
    "    \"Where was the hottest temperature on Earth recorded?\",\n",
    "    \"How many kilometers is a marathon?\",\n",
    "    \"What’s the deepest point in the ocean?\",\n",
    "    \"Which city is known as the City of Lights?\",\n",
    "    \"How many hours are there in a day on Mars?\",\n",
    "    \"What is the tallest building in the world?\",\n",
    "    \"Can you locate the nearest pizza shop?\",\n",
    "    \"How many people live in Canada?\",\n",
    "    \"What is the longest river in the world?\",\n",
    "    \"Where is the Great Barrier Reef located?\",\n",
    "    \"How do I get to the nearest bus stop?\",\n",
    "    \"What’s the most expensive city in the world?\",\n",
    "    \"Can you show me the location of the Amazon Rainforest?\",\n",
    "    \"How far is the nearest airport?\",\n",
    "    \"What’s the shortest flight route from New York to Boston?\",\n",
    "    \"Where is the Statue of Liberty situated?\"\n",
    "\n",
    "]\n",
    "\n",
    "new_data = pd.DataFrame({'question': new_questions})\n"
   ]
  },
  {
   "cell_type": "code",
   "execution_count": 33,
   "metadata": {},
   "outputs": [
    {
     "data": {
      "text/html": [
       "<div>\n",
       "<style scoped>\n",
       "    .dataframe tbody tr th:only-of-type {\n",
       "        vertical-align: middle;\n",
       "    }\n",
       "\n",
       "    .dataframe tbody tr th {\n",
       "        vertical-align: top;\n",
       "    }\n",
       "\n",
       "    .dataframe thead th {\n",
       "        text-align: right;\n",
       "    }\n",
       "</style>\n",
       "<table border=\"1\" class=\"dataframe\">\n",
       "  <thead>\n",
       "    <tr style=\"text-align: right;\">\n",
       "      <th></th>\n",
       "      <th>question</th>\n",
       "    </tr>\n",
       "  </thead>\n",
       "  <tbody>\n",
       "    <tr>\n",
       "      <th>0</th>\n",
       "      <td>Tell me a joke.</td>\n",
       "    </tr>\n",
       "    <tr>\n",
       "      <th>1</th>\n",
       "      <td>What is the meaning of life?</td>\n",
       "    </tr>\n",
       "    <tr>\n",
       "      <th>2</th>\n",
       "      <td>Can you sing a song for me?</td>\n",
       "    </tr>\n",
       "    <tr>\n",
       "      <th>3</th>\n",
       "      <td>What’s your favorite color?</td>\n",
       "    </tr>\n",
       "    <tr>\n",
       "      <th>4</th>\n",
       "      <td>How do you make pancakes?</td>\n",
       "    </tr>\n",
       "  </tbody>\n",
       "</table>\n",
       "</div>"
      ],
      "text/plain": [
       "                       question\n",
       "0               Tell me a joke.\n",
       "1  What is the meaning of life?\n",
       "2   Can you sing a song for me?\n",
       "3   What’s your favorite color?\n",
       "4     How do you make pancakes?"
      ]
     },
     "execution_count": 33,
     "metadata": {},
     "output_type": "execute_result"
    }
   ],
   "source": [
    "new_data.head()"
   ]
  },
  {
   "cell_type": "code",
   "execution_count": 34,
   "metadata": {},
   "outputs": [],
   "source": [
    "nq = pd.concat([nq, new_data], ignore_index=True)"
   ]
  },
  {
   "cell_type": "code",
   "execution_count": 35,
   "metadata": {},
   "outputs": [
    {
     "data": {
      "text/html": [
       "<div>\n",
       "<style scoped>\n",
       "    .dataframe tbody tr th:only-of-type {\n",
       "        vertical-align: middle;\n",
       "    }\n",
       "\n",
       "    .dataframe tbody tr th {\n",
       "        vertical-align: top;\n",
       "    }\n",
       "\n",
       "    .dataframe thead th {\n",
       "        text-align: right;\n",
       "    }\n",
       "</style>\n",
       "<table border=\"1\" class=\"dataframe\">\n",
       "  <thead>\n",
       "    <tr style=\"text-align: right;\">\n",
       "      <th></th>\n",
       "      <th>question</th>\n",
       "    </tr>\n",
       "  </thead>\n",
       "  <tbody>\n",
       "    <tr>\n",
       "      <th>0</th>\n",
       "      <td>which is the most common use of opt-in e-mail ...</td>\n",
       "    </tr>\n",
       "    <tr>\n",
       "      <th>1</th>\n",
       "      <td>how i.met your mother who is the mother</td>\n",
       "    </tr>\n",
       "    <tr>\n",
       "      <th>2</th>\n",
       "      <td>who had the most wins in the nfl</td>\n",
       "    </tr>\n",
       "    <tr>\n",
       "      <th>3</th>\n",
       "      <td>who played mantis guardians of the galaxy 2</td>\n",
       "    </tr>\n",
       "    <tr>\n",
       "      <th>4</th>\n",
       "      <td>the nashville sound brought a polished and cos...</td>\n",
       "    </tr>\n",
       "  </tbody>\n",
       "</table>\n",
       "</div>"
      ],
      "text/plain": [
       "                                            question\n",
       "0  which is the most common use of opt-in e-mail ...\n",
       "1            how i.met your mother who is the mother\n",
       "2                   who had the most wins in the nfl\n",
       "3        who played mantis guardians of the galaxy 2\n",
       "4  the nashville sound brought a polished and cos..."
      ]
     },
     "execution_count": 35,
     "metadata": {},
     "output_type": "execute_result"
    }
   ],
   "source": [
    "nq.head()"
   ]
  },
  {
   "cell_type": "code",
   "execution_count": 36,
   "metadata": {},
   "outputs": [
    {
     "data": {
      "text/plain": [
       "(15081, 1)"
      ]
     },
     "execution_count": 36,
     "metadata": {},
     "output_type": "execute_result"
    }
   ],
   "source": [
    "nq.shape"
   ]
  },
  {
   "cell_type": "code",
   "execution_count": 39,
   "metadata": {},
   "outputs": [],
   "source": [
    "sc.drop('Answer',axis=1,inplace=True)"
   ]
  },
  {
   "cell_type": "code",
   "execution_count": 40,
   "metadata": {},
   "outputs": [],
   "source": [
    "nq.rename(columns={'question': 'Question'}, inplace=True)"
   ]
  },
  {
   "cell_type": "code",
   "execution_count": 41,
   "metadata": {},
   "outputs": [
    {
     "data": {
      "text/html": [
       "<div>\n",
       "<style scoped>\n",
       "    .dataframe tbody tr th:only-of-type {\n",
       "        vertical-align: middle;\n",
       "    }\n",
       "\n",
       "    .dataframe tbody tr th {\n",
       "        vertical-align: top;\n",
       "    }\n",
       "\n",
       "    .dataframe thead th {\n",
       "        text-align: right;\n",
       "    }\n",
       "</style>\n",
       "<table border=\"1\" class=\"dataframe\">\n",
       "  <thead>\n",
       "    <tr style=\"text-align: right;\">\n",
       "      <th></th>\n",
       "      <th>Question</th>\n",
       "      <th>Answer</th>\n",
       "    </tr>\n",
       "  </thead>\n",
       "  <tbody>\n",
       "    <tr>\n",
       "      <th>0</th>\n",
       "      <td>What is Artificial Intelligence?</td>\n",
       "      <td>Artificial Intelligence refers to the developm...</td>\n",
       "    </tr>\n",
       "    <tr>\n",
       "      <th>1</th>\n",
       "      <td>What are the two main categories of Artificial...</td>\n",
       "      <td>The two main categories of Artificial Intellig...</td>\n",
       "    </tr>\n",
       "    <tr>\n",
       "      <th>2</th>\n",
       "      <td>What is Machine Learning?</td>\n",
       "      <td>Machine Learning is a subset of Artificial Int...</td>\n",
       "    </tr>\n",
       "    <tr>\n",
       "      <th>3</th>\n",
       "      <td>What is Deep Learning?</td>\n",
       "      <td>Deep Learning is a subset of Machine Learning ...</td>\n",
       "    </tr>\n",
       "    <tr>\n",
       "      <th>4</th>\n",
       "      <td>What is Natural Language Processing?</td>\n",
       "      <td>Natural Language Processing is a subset of Art...</td>\n",
       "    </tr>\n",
       "  </tbody>\n",
       "</table>\n",
       "</div>"
      ],
      "text/plain": [
       "                                            Question  \\\n",
       "0                   What is Artificial Intelligence?   \n",
       "1  What are the two main categories of Artificial...   \n",
       "2                          What is Machine Learning?   \n",
       "3                             What is Deep Learning?   \n",
       "4               What is Natural Language Processing?   \n",
       "\n",
       "                                              Answer  \n",
       "0  Artificial Intelligence refers to the developm...  \n",
       "1  The two main categories of Artificial Intellig...  \n",
       "2  Machine Learning is a subset of Artificial Int...  \n",
       "3  Deep Learning is a subset of Machine Learning ...  \n",
       "4  Natural Language Processing is a subset of Art...  "
      ]
     },
     "execution_count": 41,
     "metadata": {},
     "output_type": "execute_result"
    }
   ],
   "source": [
    "gk.head()"
   ]
  },
  {
   "cell_type": "code",
   "execution_count": 43,
   "metadata": {},
   "outputs": [],
   "source": [
    "gk.drop('Answer',axis=1,inplace=True)"
   ]
  },
  {
   "cell_type": "code",
   "execution_count": 45,
   "metadata": {},
   "outputs": [
    {
     "data": {
      "text/html": [
       "<div>\n",
       "<style scoped>\n",
       "    .dataframe tbody tr th:only-of-type {\n",
       "        vertical-align: middle;\n",
       "    }\n",
       "\n",
       "    .dataframe tbody tr th {\n",
       "        vertical-align: top;\n",
       "    }\n",
       "\n",
       "    .dataframe thead th {\n",
       "        text-align: right;\n",
       "    }\n",
       "</style>\n",
       "<table border=\"1\" class=\"dataframe\">\n",
       "  <thead>\n",
       "    <tr style=\"text-align: right;\">\n",
       "      <th></th>\n",
       "      <th>Question</th>\n",
       "    </tr>\n",
       "  </thead>\n",
       "  <tbody>\n",
       "    <tr>\n",
       "      <th>0</th>\n",
       "      <td>What is Artificial Intelligence?</td>\n",
       "    </tr>\n",
       "    <tr>\n",
       "      <th>1</th>\n",
       "      <td>What are the two main categories of Artificial...</td>\n",
       "    </tr>\n",
       "    <tr>\n",
       "      <th>2</th>\n",
       "      <td>What is Machine Learning?</td>\n",
       "    </tr>\n",
       "    <tr>\n",
       "      <th>3</th>\n",
       "      <td>What is Deep Learning?</td>\n",
       "    </tr>\n",
       "    <tr>\n",
       "      <th>4</th>\n",
       "      <td>What is Natural Language Processing?</td>\n",
       "    </tr>\n",
       "  </tbody>\n",
       "</table>\n",
       "</div>"
      ],
      "text/plain": [
       "                                            Question\n",
       "0                   What is Artificial Intelligence?\n",
       "1  What are the two main categories of Artificial...\n",
       "2                          What is Machine Learning?\n",
       "3                             What is Deep Learning?\n",
       "4               What is Natural Language Processing?"
      ]
     },
     "execution_count": 45,
     "metadata": {},
     "output_type": "execute_result"
    }
   ],
   "source": [
    "gk.head()"
   ]
  },
  {
   "cell_type": "code",
   "execution_count": 46,
   "metadata": {},
   "outputs": [
    {
     "data": {
      "text/html": [
       "<div>\n",
       "<style scoped>\n",
       "    .dataframe tbody tr th:only-of-type {\n",
       "        vertical-align: middle;\n",
       "    }\n",
       "\n",
       "    .dataframe tbody tr th {\n",
       "        vertical-align: top;\n",
       "    }\n",
       "\n",
       "    .dataframe thead th {\n",
       "        text-align: right;\n",
       "    }\n",
       "</style>\n",
       "<table border=\"1\" class=\"dataframe\">\n",
       "  <thead>\n",
       "    <tr style=\"text-align: right;\">\n",
       "      <th></th>\n",
       "      <th>Question</th>\n",
       "    </tr>\n",
       "  </thead>\n",
       "  <tbody>\n",
       "    <tr>\n",
       "      <th>0</th>\n",
       "      <td>social media has become a popular medium for w...</td>\n",
       "    </tr>\n",
       "    <tr>\n",
       "      <th>1</th>\n",
       "      <td>what type of method is proposed to select clas...</td>\n",
       "    </tr>\n",
       "    <tr>\n",
       "      <th>2</th>\n",
       "      <td>what part of motif occurrences , nonlinear tem...</td>\n",
       "    </tr>\n",
       "    <tr>\n",
       "      <th>3</th>\n",
       "      <td>what does each atom of the dictionary include ?</td>\n",
       "    </tr>\n",
       "    <tr>\n",
       "      <th>4</th>\n",
       "      <td>what has a problem of control ?</td>\n",
       "    </tr>\n",
       "  </tbody>\n",
       "</table>\n",
       "</div>"
      ],
      "text/plain": [
       "                                            Question\n",
       "0  social media has become a popular medium for w...\n",
       "1  what type of method is proposed to select clas...\n",
       "2  what part of motif occurrences , nonlinear tem...\n",
       "3    what does each atom of the dictionary include ?\n",
       "4                    what has a problem of control ?"
      ]
     },
     "execution_count": 46,
     "metadata": {},
     "output_type": "execute_result"
    }
   ],
   "source": [
    "sc.head()"
   ]
  },
  {
   "cell_type": "code",
   "execution_count": 47,
   "metadata": {},
   "outputs": [
    {
     "data": {
      "text/html": [
       "<div>\n",
       "<style scoped>\n",
       "    .dataframe tbody tr th:only-of-type {\n",
       "        vertical-align: middle;\n",
       "    }\n",
       "\n",
       "    .dataframe tbody tr th {\n",
       "        vertical-align: top;\n",
       "    }\n",
       "\n",
       "    .dataframe thead th {\n",
       "        text-align: right;\n",
       "    }\n",
       "</style>\n",
       "<table border=\"1\" class=\"dataframe\">\n",
       "  <thead>\n",
       "    <tr style=\"text-align: right;\">\n",
       "      <th></th>\n",
       "      <th>Question</th>\n",
       "    </tr>\n",
       "  </thead>\n",
       "  <tbody>\n",
       "    <tr>\n",
       "      <th>0</th>\n",
       "      <td>which is the most common use of opt-in e-mail ...</td>\n",
       "    </tr>\n",
       "    <tr>\n",
       "      <th>1</th>\n",
       "      <td>how i.met your mother who is the mother</td>\n",
       "    </tr>\n",
       "    <tr>\n",
       "      <th>2</th>\n",
       "      <td>who had the most wins in the nfl</td>\n",
       "    </tr>\n",
       "    <tr>\n",
       "      <th>3</th>\n",
       "      <td>who played mantis guardians of the galaxy 2</td>\n",
       "    </tr>\n",
       "    <tr>\n",
       "      <th>4</th>\n",
       "      <td>the nashville sound brought a polished and cos...</td>\n",
       "    </tr>\n",
       "  </tbody>\n",
       "</table>\n",
       "</div>"
      ],
      "text/plain": [
       "                                            Question\n",
       "0  which is the most common use of opt-in e-mail ...\n",
       "1            how i.met your mother who is the mother\n",
       "2                   who had the most wins in the nfl\n",
       "3        who played mantis guardians of the galaxy 2\n",
       "4  the nashville sound brought a polished and cos..."
      ]
     },
     "execution_count": 47,
     "metadata": {},
     "output_type": "execute_result"
    }
   ],
   "source": [
    "nq.head()"
   ]
  },
  {
   "cell_type": "code",
   "execution_count": 48,
   "metadata": {},
   "outputs": [],
   "source": [
    "final_out_of_domain = pd.concat([nq,sc,gk], ignore_index=True)"
   ]
  },
  {
   "cell_type": "code",
   "execution_count": 49,
   "metadata": {},
   "outputs": [
    {
     "data": {
      "text/html": [
       "<div>\n",
       "<style scoped>\n",
       "    .dataframe tbody tr th:only-of-type {\n",
       "        vertical-align: middle;\n",
       "    }\n",
       "\n",
       "    .dataframe tbody tr th {\n",
       "        vertical-align: top;\n",
       "    }\n",
       "\n",
       "    .dataframe thead th {\n",
       "        text-align: right;\n",
       "    }\n",
       "</style>\n",
       "<table border=\"1\" class=\"dataframe\">\n",
       "  <thead>\n",
       "    <tr style=\"text-align: right;\">\n",
       "      <th></th>\n",
       "      <th>Question</th>\n",
       "    </tr>\n",
       "  </thead>\n",
       "  <tbody>\n",
       "    <tr>\n",
       "      <th>0</th>\n",
       "      <td>which is the most common use of opt-in e-mail ...</td>\n",
       "    </tr>\n",
       "    <tr>\n",
       "      <th>1</th>\n",
       "      <td>how i.met your mother who is the mother</td>\n",
       "    </tr>\n",
       "    <tr>\n",
       "      <th>2</th>\n",
       "      <td>who had the most wins in the nfl</td>\n",
       "    </tr>\n",
       "    <tr>\n",
       "      <th>3</th>\n",
       "      <td>who played mantis guardians of the galaxy 2</td>\n",
       "    </tr>\n",
       "    <tr>\n",
       "      <th>4</th>\n",
       "      <td>the nashville sound brought a polished and cos...</td>\n",
       "    </tr>\n",
       "  </tbody>\n",
       "</table>\n",
       "</div>"
      ],
      "text/plain": [
       "                                            Question\n",
       "0  which is the most common use of opt-in e-mail ...\n",
       "1            how i.met your mother who is the mother\n",
       "2                   who had the most wins in the nfl\n",
       "3        who played mantis guardians of the galaxy 2\n",
       "4  the nashville sound brought a polished and cos..."
      ]
     },
     "execution_count": 49,
     "metadata": {},
     "output_type": "execute_result"
    }
   ],
   "source": [
    "final_out_of_domain.head()"
   ]
  },
  {
   "cell_type": "code",
   "execution_count": 50,
   "metadata": {},
   "outputs": [
    {
     "data": {
      "text/plain": [
       "(21081, 1)"
      ]
     },
     "execution_count": 50,
     "metadata": {},
     "output_type": "execute_result"
    }
   ],
   "source": [
    "final_out_of_domain.shape"
   ]
  },
  {
   "cell_type": "code",
   "execution_count": 51,
   "metadata": {},
   "outputs": [],
   "source": [
    "final_out_of_domain.to_csv('final_out_of_domain.csv',index=False)"
   ]
  },
  {
   "cell_type": "code",
   "execution_count": null,
   "metadata": {},
   "outputs": [],
   "source": []
  }
 ],
 "metadata": {
  "kernelspec": {
   "display_name": "mlenv",
   "language": "python",
   "name": "python3"
  },
  "language_info": {
   "codemirror_mode": {
    "name": "ipython",
    "version": 3
   },
   "file_extension": ".py",
   "mimetype": "text/x-python",
   "name": "python",
   "nbconvert_exporter": "python",
   "pygments_lexer": "ipython3",
   "version": "3.10.0"
  }
 },
 "nbformat": 4,
 "nbformat_minor": 2
}
